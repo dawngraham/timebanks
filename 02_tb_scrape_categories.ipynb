{
 "cells": [
  {
   "cell_type": "markdown",
   "metadata": {},
   "source": [
    "# 02. Scraper: Categories\n",
    "> Author: [Dawn Graham](https://dawngraham.github.io/)\n",
    "\n",
    "Get all of the categories from timebank directory pages to match with talents, offers, and requests."
   ]
  },
  {
   "cell_type": "markdown",
   "metadata": {},
   "source": [
    "## Import libraries"
   ]
  },
  {
   "cell_type": "code",
   "execution_count": 1,
   "metadata": {},
   "outputs": [],
   "source": [
    "import pandas as pd\n",
    "import numpy as np\n",
    "import requests\n",
    "import time\n",
    "from bs4 import BeautifulSoup"
   ]
  },
  {
   "cell_type": "markdown",
   "metadata": {},
   "source": [
    "Note: Number of Timebankers' talents on timebank homepage does not correspond to number when you click on category link."
   ]
  },
  {
   "cell_type": "markdown",
   "metadata": {},
   "source": [
    "## Get timebank url's"
   ]
  },
  {
   "cell_type": "code",
   "execution_count": 2,
   "metadata": {},
   "outputs": [
    {
     "data": {
      "text/html": [
       "<div>\n",
       "<style scoped>\n",
       "    .dataframe tbody tr th:only-of-type {\n",
       "        vertical-align: middle;\n",
       "    }\n",
       "\n",
       "    .dataframe tbody tr th {\n",
       "        vertical-align: top;\n",
       "    }\n",
       "\n",
       "    .dataframe thead th {\n",
       "        text-align: right;\n",
       "    }\n",
       "</style>\n",
       "<table border=\"1\" class=\"dataframe\">\n",
       "  <thead>\n",
       "    <tr style=\"text-align: right;\">\n",
       "      <th></th>\n",
       "      <th>url</th>\n",
       "    </tr>\n",
       "  </thead>\n",
       "  <tbody>\n",
       "    <tr>\n",
       "      <th>0</th>\n",
       "      <td>http://addington.timebanks.org</td>\n",
       "    </tr>\n",
       "    <tr>\n",
       "      <th>1</th>\n",
       "      <td>http://aha.timebanks.org</td>\n",
       "    </tr>\n",
       "    <tr>\n",
       "      <th>2</th>\n",
       "      <td>http://alticultura.timebanks.org</td>\n",
       "    </tr>\n",
       "    <tr>\n",
       "      <th>3</th>\n",
       "      <td>http://andersoncommunity.timebanks.org</td>\n",
       "    </tr>\n",
       "    <tr>\n",
       "      <th>4</th>\n",
       "      <td>http://ate.timebanks.org</td>\n",
       "    </tr>\n",
       "  </tbody>\n",
       "</table>\n",
       "</div>"
      ],
      "text/plain": [
       "                                      url\n",
       "0          http://addington.timebanks.org\n",
       "1                http://aha.timebanks.org\n",
       "2        http://alticultura.timebanks.org\n",
       "3  http://andersoncommunity.timebanks.org\n",
       "4                http://ate.timebanks.org"
      ]
     },
     "execution_count": 2,
     "metadata": {},
     "output_type": "execute_result"
    }
   ],
   "source": [
    "timebanks = pd.read_csv('./data/timebanks_190112_000745.csv', usecols=['url'])\n",
    "timebanks.head()"
   ]
  },
  {
   "cell_type": "markdown",
   "metadata": {},
   "source": [
    "## Get offers"
   ]
  },
  {
   "cell_type": "code",
   "execution_count": 3,
   "metadata": {},
   "outputs": [
    {
     "name": "stdout",
     "output_type": "stream",
     "text": [
      "Getting offers from 158 timebanks... \n",
      "1 2 3 4 5 6 7 8 9 10 11 12 13 14 15 16 17 18 19 20 21 22 23 24 25 26 27 28 29 30 31 32 33 34 35 36 37 38 39 40 41 42 43 44 45 46 47 48 49 50 51 52 53 54 55 56 57 58 59 60 61 62 63 64 65 66 67 68 69 70 71 72 73 74 75 76 77 78 79 80 81 82 83 84 85 86 87 88 89 90 91 92 93 94 95 96 97 98 99 100 101 102 103 104 105 106 107 108 109 110 111 112 113 114 115 116 117 118 119 120 121 122 123 124 125 126 127 128 129 130 131 132 133 134 135 136 137 138 139 140 141 142 143 144 145 146 147 148 149 150 151 152 153 154 155 156 157 158 "
     ]
    }
   ],
   "source": [
    "offers = []\n",
    "\n",
    "counter = 0\n",
    "total_timebanks = timebanks.shape[0]\n",
    "\n",
    "print(f'Getting offers from {total_timebanks} timebanks... ')\n",
    "\n",
    "# Iterate through all timebank directories\n",
    "for timebank in range(len(timebanks)):\n",
    "    url = f\"{timebanks['url'][timebank]}/offers\"\n",
    "    res = requests.get(url)\n",
    "    soup = BeautifulSoup(res.content, 'lxml')\n",
    "\n",
    "    timebank_name = timebanks['url'][timebank].replace('.timebanks.org', '').strip('http://')\n",
    "    \n",
    "    try:\n",
    "        # Get all parent categories\n",
    "        for panel in soup.findAll('div', {'class': 'cw-panel'}):\n",
    "            category = {}\n",
    "            cat = panel.a\n",
    "            category['count_offers'] = int(cat.span.text)\n",
    "            cat.span.clear()\n",
    "            parent_id = int(cat.get('href').strip('/ads?type=1&amp;cat='))\n",
    "            category['cat_id'] = parent_id\n",
    "            category['cat_parent'] = 'is_parent'\n",
    "            category['category'] = cat.get_text()\n",
    "            category['timebank'] = timebank_name\n",
    "            offers.append(category)\n",
    "\n",
    "            # Get all child categories\n",
    "            for li in panel.findAll('li'):\n",
    "                try:\n",
    "                    category = {}\n",
    "                    category['cat_id'] = int(li.a.get('href').strip('/ads?type=1&amp;cat='))\n",
    "                    category['cat_parent'] = parent_id\n",
    "                    category['category'] = li.a.get_text()\n",
    "                    category['count_offers'] = int(li.span.text)\n",
    "                    category['timebank'] = timebank_name\n",
    "                    offers.append(category)\n",
    "                except:\n",
    "                    pass\n",
    "    except:\n",
    "        pass\n",
    "\n",
    "    print(counter + 1, end=' ')\n",
    "    \n",
    "    time.sleep(1)\n",
    "    counter += 1\n",
    "\n",
    "# Save to dateframe and drop duplicates\n",
    "offers = pd.DataFrame(offers)\n",
    "offers.drop_duplicates(inplace=True)\n",
    "    \n",
    "# Export to csv\n",
    "filetime = time.strftime(\"%y%m%d_%H%M%S\", time.localtime())\n",
    "offers.to_csv(f'./data/offers_{filetime}.csv', index=False)"
   ]
  },
  {
   "cell_type": "code",
   "execution_count": 4,
   "metadata": {},
   "outputs": [
    {
     "data": {
      "text/html": [
       "<div>\n",
       "<style scoped>\n",
       "    .dataframe tbody tr th:only-of-type {\n",
       "        vertical-align: middle;\n",
       "    }\n",
       "\n",
       "    .dataframe tbody tr th {\n",
       "        vertical-align: top;\n",
       "    }\n",
       "\n",
       "    .dataframe thead th {\n",
       "        text-align: right;\n",
       "    }\n",
       "</style>\n",
       "<table border=\"1\" class=\"dataframe\">\n",
       "  <thead>\n",
       "    <tr style=\"text-align: right;\">\n",
       "      <th></th>\n",
       "      <th>cat_id</th>\n",
       "      <th>cat_parent</th>\n",
       "      <th>category</th>\n",
       "      <th>count_offers</th>\n",
       "      <th>timebank</th>\n",
       "    </tr>\n",
       "  </thead>\n",
       "  <tbody>\n",
       "    <tr>\n",
       "      <th>0</th>\n",
       "      <td>8</td>\n",
       "      <td>is_parent</td>\n",
       "      <td>Arts, Crafts &amp; Music</td>\n",
       "      <td>3</td>\n",
       "      <td>addington</td>\n",
       "    </tr>\n",
       "    <tr>\n",
       "      <th>1</th>\n",
       "      <td>62</td>\n",
       "      <td>8</td>\n",
       "      <td>Crafts</td>\n",
       "      <td>2</td>\n",
       "      <td>addington</td>\n",
       "    </tr>\n",
       "    <tr>\n",
       "      <th>2</th>\n",
       "      <td>67</td>\n",
       "      <td>8</td>\n",
       "      <td>Miscellaneous</td>\n",
       "      <td>1</td>\n",
       "      <td>addington</td>\n",
       "    </tr>\n",
       "    <tr>\n",
       "      <th>3</th>\n",
       "      <td>65</td>\n",
       "      <td>8</td>\n",
       "      <td>Photo &amp; Video</td>\n",
       "      <td>1</td>\n",
       "      <td>addington</td>\n",
       "    </tr>\n",
       "    <tr>\n",
       "      <th>4</th>\n",
       "      <td>0</td>\n",
       "      <td>is_parent</td>\n",
       "      <td>Business Services</td>\n",
       "      <td>6</td>\n",
       "      <td>addington</td>\n",
       "    </tr>\n",
       "    <tr>\n",
       "      <th>5</th>\n",
       "      <td>75</td>\n",
       "      <td>0</td>\n",
       "      <td>Clerical</td>\n",
       "      <td>2</td>\n",
       "      <td>addington</td>\n",
       "    </tr>\n",
       "    <tr>\n",
       "      <th>6</th>\n",
       "      <td>76</td>\n",
       "      <td>0</td>\n",
       "      <td>Computer Support</td>\n",
       "      <td>4</td>\n",
       "      <td>addington</td>\n",
       "    </tr>\n",
       "    <tr>\n",
       "      <th>7</th>\n",
       "      <td>8</td>\n",
       "      <td>0</td>\n",
       "      <td>Miscellaneous</td>\n",
       "      <td>1</td>\n",
       "      <td>addington</td>\n",
       "    </tr>\n",
       "    <tr>\n",
       "      <th>8</th>\n",
       "      <td>74</td>\n",
       "      <td>0</td>\n",
       "      <td>Proof Reading</td>\n",
       "      <td>1</td>\n",
       "      <td>addington</td>\n",
       "    </tr>\n",
       "    <tr>\n",
       "      <th>9</th>\n",
       "      <td>4</td>\n",
       "      <td>is_parent</td>\n",
       "      <td>Community Activities</td>\n",
       "      <td>5</td>\n",
       "      <td>addington</td>\n",
       "    </tr>\n",
       "  </tbody>\n",
       "</table>\n",
       "</div>"
      ],
      "text/plain": [
       "   cat_id cat_parent              category  count_offers   timebank\n",
       "0       8  is_parent  Arts, Crafts & Music             3  addington\n",
       "1      62          8                Crafts             2  addington\n",
       "2      67          8         Miscellaneous             1  addington\n",
       "3      65          8         Photo & Video             1  addington\n",
       "4       0  is_parent     Business Services             6  addington\n",
       "5      75          0              Clerical             2  addington\n",
       "6      76          0      Computer Support             4  addington\n",
       "7       8          0         Miscellaneous             1  addington\n",
       "8      74          0         Proof Reading             1  addington\n",
       "9       4  is_parent  Community Activities             5  addington"
      ]
     },
     "execution_count": 4,
     "metadata": {},
     "output_type": "execute_result"
    }
   ],
   "source": [
    "offers.head(10)"
   ]
  },
  {
   "cell_type": "markdown",
   "metadata": {},
   "source": [
    "## Get requests"
   ]
  },
  {
   "cell_type": "code",
   "execution_count": 5,
   "metadata": {},
   "outputs": [
    {
     "name": "stdout",
     "output_type": "stream",
     "text": [
      "Getting requests from 158 timebanks... \n",
      "1 2 3 4 5 6 7 8 9 10 11 12 13 14 15 16 17 18 19 20 21 22 23 24 25 26 27 28 29 30 31 32 33 34 35 36 37 38 39 40 41 42 43 44 45 46 47 48 49 50 51 52 53 54 55 56 57 58 59 60 61 62 63 64 65 66 67 68 69 70 71 72 73 74 75 76 77 78 79 80 81 82 83 84 85 86 87 88 89 90 91 92 93 94 95 96 97 98 99 100 101 102 103 104 105 106 107 108 109 110 111 112 113 114 115 116 117 118 119 120 121 122 123 124 125 126 127 128 129 130 131 132 133 134 135 136 137 138 139 140 141 142 143 144 145 146 147 148 149 150 151 152 153 154 155 156 157 158 "
     ]
    }
   ],
   "source": [
    "reqs = []\n",
    "\n",
    "counter = 0\n",
    "total_timebanks = timebanks.shape[0]\n",
    "\n",
    "print(f'Getting requests from {total_timebanks} timebanks... ')\n",
    "\n",
    "# Iterate through all timebank directories\n",
    "for timebank in range(len(timebanks)):\n",
    "    url = f\"{timebanks['url'][timebank]}/requests\"\n",
    "    res = requests.get(url)\n",
    "    soup = BeautifulSoup(res.content, 'lxml')\n",
    "\n",
    "    timebank_name = timebanks['url'][timebank].replace('.timebanks.org', '').strip('http://')\n",
    "    \n",
    "    try:\n",
    "        # Get all parent categories\n",
    "        for panel in soup.findAll('div', {'class': 'cw-panel'}):\n",
    "            category = {}\n",
    "            cat = panel.a\n",
    "            category['count_requests'] = int(cat.span.text)\n",
    "            cat.span.clear()\n",
    "            parent_id = int(cat.get('href').strip('/ads?type=2&amp;cat='))\n",
    "            category['cat_id'] = parent_id\n",
    "            category['cat_parent'] = 'is_parent'\n",
    "            category['category'] = cat.get_text()\n",
    "            category['timebank'] = timebank_name\n",
    "            reqs.append(category)\n",
    "\n",
    "            # Get all child categories\n",
    "            for li in panel.findAll('li'):\n",
    "                try:\n",
    "                    category = {}\n",
    "                    category['cat_id'] = int(li.a.get('href').strip('/ads?type=2&amp;cat='))\n",
    "                    category['cat_parent'] = parent_id\n",
    "                    category['category'] = li.a.get_text()\n",
    "                    category['count_requests'] = int(li.span.text)\n",
    "                    category['timebank'] = timebank_name\n",
    "                    reqs.append(category)\n",
    "                except:\n",
    "                    pass\n",
    "    except:\n",
    "        pass\n",
    "\n",
    "    print(counter + 1, end=' ')\n",
    "    \n",
    "    time.sleep(1)\n",
    "    counter += 1\n",
    "\n",
    "# Save to dateframe and drop duplicates\n",
    "reqs = pd.DataFrame(reqs)\n",
    "reqs.drop_duplicates(inplace=True)\n",
    "    \n",
    "# Export to csv\n",
    "filetime = time.strftime(\"%y%m%d_%H%M%S\", time.localtime())\n",
    "reqs.to_csv(f'./data/requests_{filetime}.csv', index=False)"
   ]
  },
  {
   "cell_type": "code",
   "execution_count": 6,
   "metadata": {},
   "outputs": [
    {
     "data": {
      "text/html": [
       "<div>\n",
       "<style scoped>\n",
       "    .dataframe tbody tr th:only-of-type {\n",
       "        vertical-align: middle;\n",
       "    }\n",
       "\n",
       "    .dataframe tbody tr th {\n",
       "        vertical-align: top;\n",
       "    }\n",
       "\n",
       "    .dataframe thead th {\n",
       "        text-align: right;\n",
       "    }\n",
       "</style>\n",
       "<table border=\"1\" class=\"dataframe\">\n",
       "  <thead>\n",
       "    <tr style=\"text-align: right;\">\n",
       "      <th></th>\n",
       "      <th>cat_id</th>\n",
       "      <th>cat_parent</th>\n",
       "      <th>category</th>\n",
       "      <th>count_requests</th>\n",
       "      <th>timebank</th>\n",
       "    </tr>\n",
       "  </thead>\n",
       "  <tbody>\n",
       "    <tr>\n",
       "      <th>0</th>\n",
       "      <td>8</td>\n",
       "      <td>is_parent</td>\n",
       "      <td>Arts, Crafts &amp; Music</td>\n",
       "      <td>1</td>\n",
       "      <td>addington</td>\n",
       "    </tr>\n",
       "    <tr>\n",
       "      <th>1</th>\n",
       "      <td>6</td>\n",
       "      <td>8</td>\n",
       "      <td>Crafts</td>\n",
       "      <td>1</td>\n",
       "      <td>addington</td>\n",
       "    </tr>\n",
       "    <tr>\n",
       "      <th>2</th>\n",
       "      <td>64</td>\n",
       "      <td>8</td>\n",
       "      <td>Lessons</td>\n",
       "      <td>1</td>\n",
       "      <td>addington</td>\n",
       "    </tr>\n",
       "    <tr>\n",
       "      <th>3</th>\n",
       "      <td>10</td>\n",
       "      <td>is_parent</td>\n",
       "      <td>Business Services</td>\n",
       "      <td>1</td>\n",
       "      <td>addington</td>\n",
       "    </tr>\n",
       "    <tr>\n",
       "      <th>4</th>\n",
       "      <td>75</td>\n",
       "      <td>10</td>\n",
       "      <td>Clerical</td>\n",
       "      <td>1</td>\n",
       "      <td>addington</td>\n",
       "    </tr>\n",
       "    <tr>\n",
       "      <th>5</th>\n",
       "      <td>81</td>\n",
       "      <td>10</td>\n",
       "      <td>Miscellaneous</td>\n",
       "      <td>1</td>\n",
       "      <td>addington</td>\n",
       "    </tr>\n",
       "    <tr>\n",
       "      <th>6</th>\n",
       "      <td>4</td>\n",
       "      <td>is_parent</td>\n",
       "      <td>Community Activities</td>\n",
       "      <td>2</td>\n",
       "      <td>addington</td>\n",
       "    </tr>\n",
       "    <tr>\n",
       "      <th>7</th>\n",
       "      <td>34</td>\n",
       "      <td>4</td>\n",
       "      <td>Community Service</td>\n",
       "      <td>1</td>\n",
       "      <td>addington</td>\n",
       "    </tr>\n",
       "    <tr>\n",
       "      <th>8</th>\n",
       "      <td>39</td>\n",
       "      <td>4</td>\n",
       "      <td>Miscellaneous</td>\n",
       "      <td>1</td>\n",
       "      <td>addington</td>\n",
       "    </tr>\n",
       "    <tr>\n",
       "      <th>9</th>\n",
       "      <td>38</td>\n",
       "      <td>4</td>\n",
       "      <td>Work For Social Change</td>\n",
       "      <td>1</td>\n",
       "      <td>addington</td>\n",
       "    </tr>\n",
       "  </tbody>\n",
       "</table>\n",
       "</div>"
      ],
      "text/plain": [
       "   cat_id cat_parent                category  count_requests   timebank\n",
       "0       8  is_parent    Arts, Crafts & Music               1  addington\n",
       "1       6          8                  Crafts               1  addington\n",
       "2      64          8                 Lessons               1  addington\n",
       "3      10  is_parent       Business Services               1  addington\n",
       "4      75         10                Clerical               1  addington\n",
       "5      81         10           Miscellaneous               1  addington\n",
       "6       4  is_parent    Community Activities               2  addington\n",
       "7      34          4       Community Service               1  addington\n",
       "8      39          4           Miscellaneous               1  addington\n",
       "9      38          4  Work For Social Change               1  addington"
      ]
     },
     "execution_count": 6,
     "metadata": {},
     "output_type": "execute_result"
    }
   ],
   "source": [
    "reqs.head(10)"
   ]
  },
  {
   "cell_type": "markdown",
   "metadata": {},
   "source": [
    "## Get talents"
   ]
  },
  {
   "cell_type": "code",
   "execution_count": 9,
   "metadata": {
    "scrolled": true
   },
   "outputs": [
    {
     "name": "stdout",
     "output_type": "stream",
     "text": [
      "Getting talents from 158 timebanks... \n",
      "1 2 3 4 5 6 7 8 9 10 11 12 13 14 15 16 17 18 19 20 21 22 23 24 25 26 27 28 29 30 31 32 33 34 35 36 37 38 39 40 41 42 43 44 45 46 47 48 49 50 51 52 53 54 55 56 57 58 59 60 61 62 63 64 65 66 67 68 69 70 71 72 73 74 75 76 77 78 79 80 81 82 83 84 85 86 87 88 89 90 91 92 93 94 95 96 97 98 99 100 101 102 103 104 105 106 107 108 109 110 111 112 113 114 115 116 117 118 119 120 121 122 123 124 125 126 127 128 129 130 131 132 133 134 135 136 137 138 139 140 141 142 143 144 145 146 147 148 149 150 151 152 153 154 155 156 157 158 "
     ]
    }
   ],
   "source": [
    "talents = []\n",
    "\n",
    "counter = 0\n",
    "total_timebanks = timebanks.shape[0]\n",
    "\n",
    "print(f'Getting talents from {total_timebanks} timebanks... ')\n",
    "\n",
    "# Iterate through all timebank directories\n",
    "for timebank in range(len(timebanks)):\n",
    "    url = f\"{timebanks['url'][timebank]}/directory\"\n",
    "    res = requests.get(url)\n",
    "    soup = BeautifulSoup(res.content, 'lxml')\n",
    "\n",
    "    timebank_name = timebanks['url'][timebank].replace('.timebanks.org', '').strip('http://')\n",
    "    \n",
    "    try:\n",
    "        # Get all parent categories\n",
    "        for panel in soup.findAll('div', {'class': 'cw-panel'}):\n",
    "            category = {}\n",
    "            cat = panel.a\n",
    "            category['count_talent'] = int(cat.span.text)\n",
    "            cat.span.clear()\n",
    "            parent_id = int(cat.get('href').strip('/directory?category='))\n",
    "            category['cat_id'] = parent_id\n",
    "            category['cat_parent'] = 'is_parent'\n",
    "            category['category'] = cat.get_text()\n",
    "            category['timebank'] = timebank_name\n",
    "            talents.append(category)\n",
    "\n",
    "            # Get all child categories\n",
    "            for li in panel.findAll('li'):\n",
    "                try:\n",
    "                    category = {}\n",
    "                    category['cat_id'] = int(li.a.get('href').strip('/directory?category='))\n",
    "                    category['cat_parent'] = parent_id\n",
    "                    category['category'] = li.a.get_text()\n",
    "                    category['count_talent'] = int(li.span.text)\n",
    "                    category['timebank'] = timebank_name\n",
    "                    talents.append(category)\n",
    "                except:\n",
    "                    pass\n",
    "    except:\n",
    "        pass\n",
    "\n",
    "    print(counter + 1, end=' ')\n",
    "    \n",
    "    time.sleep(1)\n",
    "    counter += 1\n",
    "\n",
    "# Save to dateframe and drop duplicates\n",
    "talents = pd.DataFrame(talents)\n",
    "talents.drop_duplicates(inplace=True)\n",
    "    \n",
    "# Export to csv\n",
    "filetime = time.strftime(\"%y%m%d_%H%M%S\", time.localtime())\n",
    "talents.to_csv(f'./data/talents_{filetime}.csv', index=False)"
   ]
  },
  {
   "cell_type": "code",
   "execution_count": 10,
   "metadata": {},
   "outputs": [
    {
     "data": {
      "text/html": [
       "<div>\n",
       "<style scoped>\n",
       "    .dataframe tbody tr th:only-of-type {\n",
       "        vertical-align: middle;\n",
       "    }\n",
       "\n",
       "    .dataframe tbody tr th {\n",
       "        vertical-align: top;\n",
       "    }\n",
       "\n",
       "    .dataframe thead th {\n",
       "        text-align: right;\n",
       "    }\n",
       "</style>\n",
       "<table border=\"1\" class=\"dataframe\">\n",
       "  <thead>\n",
       "    <tr style=\"text-align: right;\">\n",
       "      <th></th>\n",
       "      <th>cat_id</th>\n",
       "      <th>cat_parent</th>\n",
       "      <th>category</th>\n",
       "      <th>count_talent</th>\n",
       "      <th>timebank</th>\n",
       "    </tr>\n",
       "  </thead>\n",
       "  <tbody>\n",
       "    <tr>\n",
       "      <th>0</th>\n",
       "      <td>8</td>\n",
       "      <td>is_parent</td>\n",
       "      <td>Arts, Crafts &amp; Music</td>\n",
       "      <td>46</td>\n",
       "      <td>addington</td>\n",
       "    </tr>\n",
       "    <tr>\n",
       "      <th>1</th>\n",
       "      <td>61</td>\n",
       "      <td>8</td>\n",
       "      <td>Classes</td>\n",
       "      <td>8</td>\n",
       "      <td>addington</td>\n",
       "    </tr>\n",
       "    <tr>\n",
       "      <th>2</th>\n",
       "      <td>62</td>\n",
       "      <td>8</td>\n",
       "      <td>Crafts</td>\n",
       "      <td>19</td>\n",
       "      <td>addington</td>\n",
       "    </tr>\n",
       "    <tr>\n",
       "      <th>3</th>\n",
       "      <td>63</td>\n",
       "      <td>8</td>\n",
       "      <td>Entertainment</td>\n",
       "      <td>5</td>\n",
       "      <td>addington</td>\n",
       "    </tr>\n",
       "    <tr>\n",
       "      <th>4</th>\n",
       "      <td>64</td>\n",
       "      <td>8</td>\n",
       "      <td>Lessons</td>\n",
       "      <td>4</td>\n",
       "      <td>addington</td>\n",
       "    </tr>\n",
       "    <tr>\n",
       "      <th>5</th>\n",
       "      <td>67</td>\n",
       "      <td>8</td>\n",
       "      <td>Miscellaneous</td>\n",
       "      <td>2</td>\n",
       "      <td>addington</td>\n",
       "    </tr>\n",
       "    <tr>\n",
       "      <th>6</th>\n",
       "      <td>65</td>\n",
       "      <td>8</td>\n",
       "      <td>Photo &amp; Video</td>\n",
       "      <td>7</td>\n",
       "      <td>addington</td>\n",
       "    </tr>\n",
       "    <tr>\n",
       "      <th>7</th>\n",
       "      <td>66</td>\n",
       "      <td>8</td>\n",
       "      <td>Theater</td>\n",
       "      <td>1</td>\n",
       "      <td>addington</td>\n",
       "    </tr>\n",
       "    <tr>\n",
       "      <th>8</th>\n",
       "      <td>10</td>\n",
       "      <td>is_parent</td>\n",
       "      <td>Business Services</td>\n",
       "      <td>79</td>\n",
       "      <td>addington</td>\n",
       "    </tr>\n",
       "    <tr>\n",
       "      <th>9</th>\n",
       "      <td>75</td>\n",
       "      <td>10</td>\n",
       "      <td>Clerical</td>\n",
       "      <td>14</td>\n",
       "      <td>addington</td>\n",
       "    </tr>\n",
       "  </tbody>\n",
       "</table>\n",
       "</div>"
      ],
      "text/plain": [
       "   cat_id cat_parent              category  count_talent   timebank\n",
       "0       8  is_parent  Arts, Crafts & Music            46  addington\n",
       "1      61          8               Classes             8  addington\n",
       "2      62          8                Crafts            19  addington\n",
       "3      63          8         Entertainment             5  addington\n",
       "4      64          8               Lessons             4  addington\n",
       "5      67          8         Miscellaneous             2  addington\n",
       "6      65          8         Photo & Video             7  addington\n",
       "7      66          8               Theater             1  addington\n",
       "8      10  is_parent     Business Services            79  addington\n",
       "9      75         10              Clerical            14  addington"
      ]
     },
     "execution_count": 10,
     "metadata": {},
     "output_type": "execute_result"
    }
   ],
   "source": [
    "talents.head(10)"
   ]
  },
  {
   "cell_type": "code",
   "execution_count": null,
   "metadata": {},
   "outputs": [],
   "source": [
    "talents.pivot_table(values='count_talent', index=['cat_id', 'cat_parent', 'category'], columns=['timebank'], aggfunc=np.sum)"
   ]
  },
  {
   "cell_type": "markdown",
   "metadata": {},
   "source": [
    "## Drop duplicate rows\n",
    "Challenges: Some child categories have the same id and name but are assigned to different parent categories."
   ]
  },
  {
   "cell_type": "code",
   "execution_count": null,
   "metadata": {},
   "outputs": [],
   "source": [
    "# Drop duplicates of id 2: \"help at home\"\n",
    "categories.drop(26, inplace=True)\n",
    "categories.drop(76, inplace=True)"
   ]
  },
  {
   "cell_type": "code",
   "execution_count": null,
   "metadata": {},
   "outputs": [],
   "source": [
    "# Drop duplicates of id 3: \"companionship / socializing / home care\"\n",
    "categories.drop(218, inplace=True)\n",
    "categories.drop(1319, inplace=True)"
   ]
  },
  {
   "cell_type": "code",
   "execution_count": null,
   "metadata": {},
   "outputs": [],
   "source": [
    "# Drop duplicates of id 5: \"wellness\"\n",
    "categories.drop(1008, inplace=True)"
   ]
  },
  {
   "cell_type": "code",
   "execution_count": null,
   "metadata": {},
   "outputs": [],
   "source": [
    "# Drop duplicates of id 7: \"education\"\n",
    "categories.drop(1759, inplace=True)"
   ]
  },
  {
   "cell_type": "code",
   "execution_count": null,
   "metadata": {},
   "outputs": [],
   "source": [
    "# Drop duplicates of id 8: \"arts, crafts, music\"\n",
    "categories.drop(32, inplace=True)\n",
    "categories.drop(1920, inplace=True)"
   ]
  },
  {
   "cell_type": "code",
   "execution_count": null,
   "metadata": {},
   "outputs": [],
   "source": [
    "# Drop duplicates of id 9: \"home care / repairs\"\n",
    "categories.drop(99, inplace=True)\n",
    "categories.drop(873, inplace=True)"
   ]
  },
  {
   "cell_type": "code",
   "execution_count": null,
   "metadata": {},
   "outputs": [],
   "source": [
    "# Drop duplicates of id 13: \"local rides\"\n",
    "categories.drop(374, inplace=True)"
   ]
  },
  {
   "cell_type": "code",
   "execution_count": null,
   "metadata": {},
   "outputs": [],
   "source": [
    "# Drop duplicates of id 14: \"long distance rides\"\n",
    "categories.drop(375, inplace=True)"
   ]
  },
  {
   "cell_type": "code",
   "execution_count": null,
   "metadata": {},
   "outputs": [],
   "source": [
    "# Drop duplicates of id 15: \"medical rides\"\n",
    "categories.drop(376, inplace=True)"
   ]
  },
  {
   "cell_type": "code",
   "execution_count": null,
   "metadata": {},
   "outputs": [],
   "source": [
    "# Drop duplicates of id 16: \"train / bus / airport rides\"\n",
    "categories.drop(378, inplace=True)"
   ]
  },
  {
   "cell_type": "code",
   "execution_count": null,
   "metadata": {},
   "outputs": [],
   "source": [
    "# Drop duplicates of id 20: \"cooking / sewing\"\n",
    "categories.drop(78, inplace=True)\n",
    "categories.drop(344, inplace=True)\n",
    "categories.drop(857, inplace=True)\n",
    "categories.drop(1158, inplace=True)"
   ]
  },
  {
   "cell_type": "code",
   "execution_count": null,
   "metadata": {},
   "outputs": [],
   "source": [
    "# Drop duplicates of id 24: \"respite care\"\n",
    "categories.drop(1071, inplace=True)"
   ]
  },
  {
   "cell_type": "code",
   "execution_count": null,
   "metadata": {},
   "outputs": [],
   "source": [
    "# Drop duplicates of id 25: \"other help at home\"\n",
    "categories.drop(81, inplace=True)"
   ]
  },
  {
   "cell_type": "code",
   "execution_count": null,
   "metadata": {},
   "outputs": [],
   "source": [
    "# Drop duplicates of id 26: \"clubs / social groups\"\n",
    "categories.drop(220, inplace=True)"
   ]
  },
  {
   "cell_type": "code",
   "execution_count": null,
   "metadata": {},
   "outputs": [],
   "source": [
    "# Drop duplicates of id 28: \"social correspondence / email / etc.\"\n",
    "categories.drop(226, inplace=True)\n",
    "categories.drop(329, inplace=True)"
   ]
  },
  {
   "cell_type": "code",
   "execution_count": null,
   "metadata": {},
   "outputs": [],
   "source": [
    "# Drop duplicates of id 29: \"home visits\"\n",
    "categories.drop(1320, inplace=True)"
   ]
  },
  {
   "cell_type": "code",
   "execution_count": null,
   "metadata": {},
   "outputs": [],
   "source": [
    "# Drop duplicates of id 30: \"errands\"\n",
    "categories.drop(224, inplace=True)"
   ]
  },
  {
   "cell_type": "code",
   "execution_count": null,
   "metadata": {},
   "outputs": [],
   "source": [
    "# Drop duplicates of id 31: \"phone calls\"\n",
    "categories.drop(68, inplace=True)\n",
    "categories.drop(1381, inplace=True)"
   ]
  },
  {
   "cell_type": "code",
   "execution_count": null,
   "metadata": {},
   "outputs": [],
   "source": [
    "# Drop duplicates of id 32: \"other companionship\"\n",
    "categories.drop(67, inplace=True)"
   ]
  },
  {
   "cell_type": "code",
   "execution_count": null,
   "metadata": {},
   "outputs": [],
   "source": [
    "# Drop duplicates of id 35: \"fundraising\"\n",
    "categories.drop(57, inplace=True)"
   ]
  },
  {
   "cell_type": "code",
   "execution_count": null,
   "metadata": {},
   "outputs": [],
   "source": [
    "# Drop duplicates of id 36: \"help our timebank\"\n",
    "categories.drop(1692, inplace=True)"
   ]
  },
  {
   "cell_type": "code",
   "execution_count": null,
   "metadata": {},
   "outputs": [],
   "source": [
    "# Drop duplicates of id 39: \"other community activities\"\n",
    "categories.drop(60, inplace=True)"
   ]
  },
  {
   "cell_type": "code",
   "execution_count": null,
   "metadata": {},
   "outputs": [],
   "source": [
    "# Give more descriptive title for id 46\n",
    "categories.at[137, 'category'] = 'Other Wellness'"
   ]
  },
  {
   "cell_type": "code",
   "execution_count": null,
   "metadata": {},
   "outputs": [],
   "source": [
    "# Drop duplicates of id 47: \"books & videos\"\n",
    "categories.drop(455, inplace=True)"
   ]
  },
  {
   "cell_type": "code",
   "execution_count": null,
   "metadata": {},
   "outputs": [],
   "source": [
    "# Drop duplicates of id 51: \"sports & games\"\n",
    "categories.drop(370, inplace=True)"
   ]
  },
  {
   "cell_type": "code",
   "execution_count": null,
   "metadata": {},
   "outputs": [],
   "source": [
    "# Drop duplicates of id 58: \"legal / finances\"\n",
    "categories.drop(1390, inplace=True)"
   ]
  },
  {
   "cell_type": "code",
   "execution_count": null,
   "metadata": {},
   "outputs": [],
   "source": [
    "# Drop duplicates of id 60: \"other education\"\n",
    "categories.drop(74, inplace=True)"
   ]
  },
  {
   "cell_type": "code",
   "execution_count": null,
   "metadata": {},
   "outputs": [],
   "source": [
    "# Drop duplicates of id 61: \"classes\"\n",
    "categories.drop(1921, inplace=True)\n",
    "categories.drop(1925, inplace=True)"
   ]
  },
  {
   "cell_type": "code",
   "execution_count": null,
   "metadata": {},
   "outputs": [],
   "source": [
    "# Drop duplicates of id 62: \"arts & crafts\"\n",
    "categories.drop(1357, inplace=True)\n",
    "categories.drop(1922, inplace=True)"
   ]
  },
  {
   "cell_type": "code",
   "execution_count": null,
   "metadata": {},
   "outputs": [],
   "source": [
    "# Drop duplicates of id 65: \"photo & video\"\n",
    "categories.drop(398, inplace=True)"
   ]
  },
  {
   "cell_type": "code",
   "execution_count": null,
   "metadata": {},
   "outputs": [],
   "source": [
    "# Drop duplicates of id 66: \"theater\"\n",
    "categories.drop(699, inplace=True)"
   ]
  },
  {
   "cell_type": "code",
   "execution_count": null,
   "metadata": {},
   "outputs": [],
   "source": [
    "# Drop duplicates of id 67: \"arts misc\"\n",
    "categories.drop(1017, inplace=True)"
   ]
  },
  {
   "cell_type": "code",
   "execution_count": null,
   "metadata": {},
   "outputs": [],
   "source": [
    "# Drop duplicates of id 68: \"car care\"\n",
    "categories.drop(1406, inplace=True)"
   ]
  },
  {
   "cell_type": "code",
   "execution_count": null,
   "metadata": {},
   "outputs": [],
   "source": [
    "# Drop duplicates of id 71: \"garden, yard work\"\n",
    "categories.drop(354, inplace=True)\n",
    "categories.drop(446, inplace=True)\n",
    "categories.drop(953, inplace=True)\n",
    "categories.drop(1274, inplace=True)"
   ]
  },
  {
   "cell_type": "code",
   "execution_count": null,
   "metadata": {},
   "outputs": [],
   "source": [
    "# Drop duplicates of id 76: \"computer / it support\"\n",
    "categories.drop(10, inplace=True)\n",
    "categories.drop(494, inplace=True)"
   ]
  },
  {
   "cell_type": "code",
   "execution_count": null,
   "metadata": {},
   "outputs": [],
   "source": [
    "# Drop duplicates of id 81: \"other business services\"\n",
    "categories.drop(50, inplace=True)\n",
    "categories.drop(905, inplace=True)"
   ]
  },
  {
   "cell_type": "code",
   "execution_count": null,
   "metadata": {},
   "outputs": [],
   "source": [
    "# Drop duplicates of id 85: \"free stuff\"\n",
    "categories.drop(452, inplace=True)"
   ]
  },
  {
   "cell_type": "code",
   "execution_count": null,
   "metadata": {},
   "outputs": [],
   "source": [
    "# Drop duplicates of id 86: \"group projects\"\n",
    "categories.drop(1375, inplace=True)"
   ]
  },
  {
   "cell_type": "code",
   "execution_count": null,
   "metadata": {},
   "outputs": [],
   "source": [
    "# Drop duplicates of id 88: \"cooking/sewing\"\n",
    "categories.drop(1151, inplace=True)"
   ]
  },
  {
   "cell_type": "code",
   "execution_count": null,
   "metadata": {},
   "outputs": [],
   "source": [
    "categories[categories['id'] == 96]"
   ]
  },
  {
   "cell_type": "code",
   "execution_count": null,
   "metadata": {},
   "outputs": [],
   "source": [
    "# Give more descriptive title for id 46\n",
    "categories.at[137, 'category'] = 'Other Wellness'"
   ]
  },
  {
   "cell_type": "code",
   "execution_count": null,
   "metadata": {},
   "outputs": [],
   "source": [
    "# Give more descriptive title for id 53\n",
    "categories.at[120, 'category'] = 'Other Recreation'"
   ]
  },
  {
   "cell_type": "code",
   "execution_count": null,
   "metadata": {},
   "outputs": [],
   "source": [
    "# Give more descriptive title for id 67\n",
    "categories.at[5, 'category'] = 'Other Arts, Crafts & Music'"
   ]
  },
  {
   "cell_type": "code",
   "execution_count": null,
   "metadata": {},
   "outputs": [],
   "source": [
    "# Give more descriptive title for id 74\n",
    "categories.at[106, 'category'] = 'Other Home Care / Maintenance'"
   ]
  },
  {
   "cell_type": "code",
   "execution_count": null,
   "metadata": {},
   "outputs": [],
   "source": [
    "# Give more descriptive title for id 88\n",
    "categories.at[863, 'category'] = 'Cooking / Sewing'"
   ]
  }
 ],
 "metadata": {
  "kernelspec": {
   "display_name": "Python 3",
   "language": "python",
   "name": "python3"
  },
  "language_info": {
   "codemirror_mode": {
    "name": "ipython",
    "version": 3
   },
   "file_extension": ".py",
   "mimetype": "text/x-python",
   "name": "python",
   "nbconvert_exporter": "python",
   "pygments_lexer": "ipython3",
   "version": "3.6.6"
  }
 },
 "nbformat": 4,
 "nbformat_minor": 2
}
