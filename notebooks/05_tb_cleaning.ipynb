{
 "cells": [
  {
   "cell_type": "markdown",
   "metadata": {},
   "source": [
    "# 05. Cleaning / EDA"
   ]
  },
  {
   "cell_type": "markdown",
   "metadata": {},
   "source": [
    "## Import libraries"
   ]
  },
  {
   "cell_type": "code",
   "execution_count": 1,
   "metadata": {},
   "outputs": [],
   "source": [
    "import pandas as pd\n",
    "import regex as re\n",
    "import time"
   ]
  },
  {
   "cell_type": "markdown",
   "metadata": {},
   "source": [
    "## Timebanks: Directory"
   ]
  },
  {
   "cell_type": "code",
   "execution_count": 2,
   "metadata": {},
   "outputs": [
    {
     "data": {
      "text/html": [
       "<div>\n",
       "<style scoped>\n",
       "    .dataframe tbody tr th:only-of-type {\n",
       "        vertical-align: middle;\n",
       "    }\n",
       "\n",
       "    .dataframe tbody tr th {\n",
       "        vertical-align: top;\n",
       "    }\n",
       "\n",
       "    .dataframe thead th {\n",
       "        text-align: right;\n",
       "    }\n",
       "</style>\n",
       "<table border=\"1\" class=\"dataframe\">\n",
       "  <thead>\n",
       "    <tr style=\"text-align: right;\">\n",
       "      <th></th>\n",
       "      <th>address</th>\n",
       "      <th>country</th>\n",
       "      <th>focus</th>\n",
       "      <th>mission</th>\n",
       "      <th>name</th>\n",
       "      <th>notes</th>\n",
       "      <th>phone</th>\n",
       "      <th>postal</th>\n",
       "      <th>slug</th>\n",
       "      <th>sponsor</th>\n",
       "      <th>timebank</th>\n",
       "      <th>url</th>\n",
       "      <th>url_2</th>\n",
       "    </tr>\n",
       "  </thead>\n",
       "  <tbody>\n",
       "    <tr>\n",
       "      <th>0</th>\n",
       "      <td>7 Dickens St, Addington</td>\n",
       "      <td>New Zealand</td>\n",
       "      <td>NaN</td>\n",
       "      <td>Addington TimeBank: Serving Southern Christchu...</td>\n",
       "      <td>Addington TimeBank</td>\n",
       "      <td>This TimeBank became live on 1 February 2012. ...</td>\n",
       "      <td>64 3 3381613</td>\n",
       "      <td>Christchurch, Canterbury 8024</td>\n",
       "      <td>timebanks/addington-timebank</td>\n",
       "      <td>Addington Community House (Inc)</td>\n",
       "      <td>addington</td>\n",
       "      <td>http://addington.timebanks.org</td>\n",
       "      <td>NaN</td>\n",
       "    </tr>\n",
       "    <tr>\n",
       "      <th>1</th>\n",
       "      <td>331 Sterling Highway, PO BOX 3493 (mailing add...</td>\n",
       "      <td>United States</td>\n",
       "      <td>NaN</td>\n",
       "      <td>Our mission is to strengthen our community   b...</td>\n",
       "      <td>AHA Time Bank (Alaskans Helping Alaskans)</td>\n",
       "      <td>NaN</td>\n",
       "      <td>907-299-2060</td>\n",
       "      <td>Homer, Alaska 99603</td>\n",
       "      <td>timebanks/aha-time-bank-alaskans-helping-alaskans</td>\n",
       "      <td>NaN</td>\n",
       "      <td>aha</td>\n",
       "      <td>http://aha.timebanks.org</td>\n",
       "      <td>NaN</td>\n",
       "    </tr>\n",
       "    <tr>\n",
       "      <th>2</th>\n",
       "      <td>Entrada al Refugio Tierra Colorada Baja , PO B...</td>\n",
       "      <td>Guatemala</td>\n",
       "      <td>NaN</td>\n",
       "      <td>Build adaptive capacity for integrated sustain...</td>\n",
       "      <td>Alticultura</td>\n",
       "      <td>NaN</td>\n",
       "      <td>1150230873516</td>\n",
       "      <td>Quetzaltenango, Quetzaltenango 9001</td>\n",
       "      <td>timebanks/alticultura</td>\n",
       "      <td>Alticultura</td>\n",
       "      <td>alticultura</td>\n",
       "      <td>http://alticultura.timebanks.org</td>\n",
       "      <td>NaN</td>\n",
       "    </tr>\n",
       "  </tbody>\n",
       "</table>\n",
       "</div>"
      ],
      "text/plain": [
       "                                             address        country  focus  \\\n",
       "0                            7 Dickens St, Addington    New Zealand    NaN   \n",
       "1  331 Sterling Highway, PO BOX 3493 (mailing add...  United States    NaN   \n",
       "2  Entrada al Refugio Tierra Colorada Baja , PO B...      Guatemala    NaN   \n",
       "\n",
       "                                             mission  \\\n",
       "0  Addington TimeBank: Serving Southern Christchu...   \n",
       "1  Our mission is to strengthen our community   b...   \n",
       "2  Build adaptive capacity for integrated sustain...   \n",
       "\n",
       "                                        name  \\\n",
       "0                         Addington TimeBank   \n",
       "1  AHA Time Bank (Alaskans Helping Alaskans)   \n",
       "2                                Alticultura   \n",
       "\n",
       "                                               notes          phone  \\\n",
       "0  This TimeBank became live on 1 February 2012. ...   64 3 3381613   \n",
       "1                                                NaN   907-299-2060   \n",
       "2                                                NaN  1150230873516   \n",
       "\n",
       "                                postal  \\\n",
       "0        Christchurch, Canterbury 8024   \n",
       "1                  Homer, Alaska 99603   \n",
       "2  Quetzaltenango, Quetzaltenango 9001   \n",
       "\n",
       "                                                slug  \\\n",
       "0                       timebanks/addington-timebank   \n",
       "1  timebanks/aha-time-bank-alaskans-helping-alaskans   \n",
       "2                              timebanks/alticultura   \n",
       "\n",
       "                           sponsor     timebank  \\\n",
       "0  Addington Community House (Inc)    addington   \n",
       "1                              NaN          aha   \n",
       "2                      Alticultura  alticultura   \n",
       "\n",
       "                                url url_2  \n",
       "0    http://addington.timebanks.org   NaN  \n",
       "1          http://aha.timebanks.org   NaN  \n",
       "2  http://alticultura.timebanks.org   NaN  "
      ]
     },
     "execution_count": 2,
     "metadata": {},
     "output_type": "execute_result"
    }
   ],
   "source": [
    "timebanks = pd.read_csv('../data/directory.csv')\n",
    "timebanks.head(3)"
   ]
  },
  {
   "cell_type": "code",
   "execution_count": 3,
   "metadata": {},
   "outputs": [
    {
     "data": {
      "text/plain": [
       "(156, 13)"
      ]
     },
     "execution_count": 3,
     "metadata": {},
     "output_type": "execute_result"
    }
   ],
   "source": [
    "timebanks.shape"
   ]
  },
  {
   "cell_type": "code",
   "execution_count": 4,
   "metadata": {},
   "outputs": [
    {
     "data": {
      "text/plain": [
       "address       1\n",
       "country       1\n",
       "focus       156\n",
       "mission       9\n",
       "name          0\n",
       "notes       147\n",
       "phone         2\n",
       "postal        1\n",
       "slug          0\n",
       "sponsor      91\n",
       "timebank      0\n",
       "url           0\n",
       "url_2       100\n",
       "dtype: int64"
      ]
     },
     "execution_count": 4,
     "metadata": {},
     "output_type": "execute_result"
    }
   ],
   "source": [
    "timebanks.isnull().sum()"
   ]
  },
  {
   "cell_type": "markdown",
   "metadata": {},
   "source": [
    "### `address`"
   ]
  },
  {
   "cell_type": "code",
   "execution_count": 5,
   "metadata": {},
   "outputs": [
    {
     "data": {
      "text/html": [
       "<div>\n",
       "<style scoped>\n",
       "    .dataframe tbody tr th:only-of-type {\n",
       "        vertical-align: middle;\n",
       "    }\n",
       "\n",
       "    .dataframe tbody tr th {\n",
       "        vertical-align: top;\n",
       "    }\n",
       "\n",
       "    .dataframe thead th {\n",
       "        text-align: right;\n",
       "    }\n",
       "</style>\n",
       "<table border=\"1\" class=\"dataframe\">\n",
       "  <thead>\n",
       "    <tr style=\"text-align: right;\">\n",
       "      <th></th>\n",
       "      <th>address</th>\n",
       "      <th>country</th>\n",
       "      <th>focus</th>\n",
       "      <th>mission</th>\n",
       "      <th>name</th>\n",
       "      <th>notes</th>\n",
       "      <th>phone</th>\n",
       "      <th>postal</th>\n",
       "      <th>slug</th>\n",
       "      <th>sponsor</th>\n",
       "      <th>timebank</th>\n",
       "      <th>url</th>\n",
       "      <th>url_2</th>\n",
       "    </tr>\n",
       "  </thead>\n",
       "  <tbody>\n",
       "    <tr>\n",
       "      <th>24</th>\n",
       "      <td>NaN</td>\n",
       "      <td>NaN</td>\n",
       "      <td>NaN</td>\n",
       "      <td>A community of neighbors helping neighbors.</td>\n",
       "      <td>Common Wealth Time Bank</td>\n",
       "      <td>This TimeBank is currently dormant. Please ema...</td>\n",
       "      <td>NaN</td>\n",
       "      <td>NaN</td>\n",
       "      <td>timebanks/common-wealth-time-bank</td>\n",
       "      <td>NaN</td>\n",
       "      <td>manasota</td>\n",
       "      <td>http://manasota.timebanks.org</td>\n",
       "      <td>NaN</td>\n",
       "    </tr>\n",
       "  </tbody>\n",
       "</table>\n",
       "</div>"
      ],
      "text/plain": [
       "   address country  focus                                      mission  \\\n",
       "24     NaN     NaN    NaN  A community of neighbors helping neighbors.   \n",
       "\n",
       "                       name  \\\n",
       "24  Common Wealth Time Bank   \n",
       "\n",
       "                                                notes phone postal  \\\n",
       "24  This TimeBank is currently dormant. Please ema...   NaN    NaN   \n",
       "\n",
       "                                 slug sponsor  timebank  \\\n",
       "24  timebanks/common-wealth-time-bank     NaN  manasota   \n",
       "\n",
       "                              url url_2  \n",
       "24  http://manasota.timebanks.org   NaN  "
      ]
     },
     "execution_count": 5,
     "metadata": {},
     "output_type": "execute_result"
    }
   ],
   "source": [
    "timebanks[timebanks['address'].isnull()]"
   ]
  },
  {
   "cell_type": "markdown",
   "metadata": {},
   "source": [
    "Most timebanks have a phone number associated. 1 is not listed. 1 appears to be filler (555-555-5555)."
   ]
  }
 ],
 "metadata": {
  "kernelspec": {
   "display_name": "Python 3",
   "language": "python",
   "name": "python3"
  },
  "language_info": {
   "codemirror_mode": {
    "name": "ipython",
    "version": 3
   },
   "file_extension": ".py",
   "mimetype": "text/x-python",
   "name": "python",
   "nbconvert_exporter": "python",
   "pygments_lexer": "ipython3",
   "version": "3.6.6"
  }
 },
 "nbformat": 4,
 "nbformat_minor": 2
}
